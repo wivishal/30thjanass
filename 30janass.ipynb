{
 "cells": [
  {
   "cell_type": "markdown",
   "id": "1a08b085-9ffd-411f-868d-54402bae3452",
   "metadata": {},
   "source": [
    "Q1. Write a program to accept percentage from the use and display grade according to the following criteria:"
   ]
  },
  {
   "cell_type": "code",
   "execution_count": 1,
   "id": "2af841c3-4307-462a-bbbd-839ba96a8fbb",
   "metadata": {},
   "outputs": [
    {
     "name": "stdin",
     "output_type": "stream",
     "text": [
      "Enter Marks 100\n"
     ]
    },
    {
     "name": "stdout",
     "output_type": "stream",
     "text": [
      "Grade A\n"
     ]
    }
   ],
   "source": [
    "marks = int(input(\"Enter Marks\"))\n",
    "if marks < 60:\n",
    "    Grade = \"D\"\n",
    "if marks >= 60 and marks <= 80 :\n",
    "    Grade = \"C\"\n",
    "if marks >80 and marks <= 90 :\n",
    "    Grade = \"B\"\n",
    "if marks >90 and marks <= 100:\n",
    "    Grade = \"A\"\n",
    "else :\n",
    "    Grade = \"n/a\"\n",
    "print(\"Grade\",Grade)\n",
    "    "
   ]
  },
  {
   "cell_type": "markdown",
   "id": "48402564-1528-43fc-9518-df875feca62b",
   "metadata": {},
   "source": [
    "Q2. Write a program to accept the cost price of a bike and display the road tax to be paid according to the following criteria ."
   ]
  },
  {
   "cell_type": "code",
   "execution_count": 2,
   "id": "af53ca70-f9d1-4309-8561-1c059a06c7fd",
   "metadata": {},
   "outputs": [
    {
     "name": "stdin",
     "output_type": "stream",
     "text": [
      "Enter cost price of a bike 100000\n"
     ]
    },
    {
     "name": "stdout",
     "output_type": "stream",
     "text": [
      "Road tax to be paid: Rs. 10000.0\n"
     ]
    }
   ],
   "source": [
    "cost = int(input(\"Enter cost price of a bike\"))\n",
    "if cost <=50000 :\n",
    "    tax = 5/100*cost\n",
    "if cost >50000 and cost <=100000 :\n",
    "    tax = 10/100*cost\n",
    "else:\n",
    "    tax = 15/100*cost\n",
    "print (\"Road tax to be paid: Rs.\",tax)"
   ]
  },
  {
   "cell_type": "markdown",
   "id": "3d850074-94d8-474d-8f7e-38de5b09ed98",
   "metadata": {},
   "source": [
    "Q3. Accept any city from the user and display monuments of that city."
   ]
  },
  {
   "cell_type": "code",
   "execution_count": 3,
   "id": "630b2601-56e5-4c72-8df9-03d08e3168f8",
   "metadata": {},
   "outputs": [
    {
     "name": "stdin",
     "output_type": "stream",
     "text": [
      "Enter City Name delhi\n"
     ]
    },
    {
     "name": "stdout",
     "output_type": "stream",
     "text": [
      "Red Fort\n",
      "Enter Valid City\n"
     ]
    }
   ],
   "source": [
    "city = input(\"Enter City Name\").upper()\n",
    "if city == \"DELHI\":\n",
    "    print(\"Red Fort\")\n",
    "if city == \"AGRA\":\n",
    "    print(\"Taj Mahal\")\n",
    "if city == \"JAIPUR\":\n",
    "    print(\"Jal Mahal\")\n",
    "else:\n",
    "    print(\"Enter Valid City\")\n"
   ]
  },
  {
   "cell_type": "markdown",
   "id": "4ca9186b-c6b3-469e-a586-4bcb6be89183",
   "metadata": {},
   "source": [
    "Q4. Check how many times a given number can be divided by 3 before it is less than or equal to 10."
   ]
  },
  {
   "cell_type": "code",
   "execution_count": 5,
   "id": "8e771114-3222-4a04-b8a9-64dde31484fe",
   "metadata": {},
   "outputs": [
    {
     "name": "stdin",
     "output_type": "stream",
     "text": [
      "Enter Number 12\n"
     ]
    },
    {
     "name": "stdout",
     "output_type": "stream",
     "text": [
      "1\n"
     ]
    }
   ],
   "source": [
    "num = int(input(\"Enter Number\"))\n",
    "count = 0\n",
    "while num > 10:\n",
    "    num = num/3\n",
    "    count = count+1\n",
    "print(count)"
   ]
  },
  {
   "cell_type": "markdown",
   "id": "6cb1d2d9-d445-4c04-bf04-7ec2f9d11ebe",
   "metadata": {},
   "source": [
    "Q5. Why and when to use while loop in python give detailed description with example ?"
   ]
  },
  {
   "cell_type": "markdown",
   "id": "f36f6f04-d6e2-4353-bb9a-b3ce910ef806",
   "metadata": {
    "tags": []
   },
   "source": [
    "Ans. We use a while loop when the number of iteration is not known beforehand. For example, if you want to ask a user to guess your\n",
    "     luck number between 1 and 10, we don’t know how many attempts the user may need to guess the correct number. In such cases, use a while loop.\n",
    "\n",
    "    An unknown number of iterations. Ask the user to guess the lucky number. You don’t know how many attempts the user will need to guess\n",
    "    correctly. It can be 1, 20, or maybe indefinite. In such cases, use a while loop.\n",
    "\n",
    "    a. The while statement checks the condition. The condition must return a boolean value. Either True or False.\n",
    "    b. Next, If the condition evaluates to true, the while statement executes the statements present inside its block.\n",
    "    c. The while statement continues checking the condition in each iteration and keeps executing its block until the condition becomes false.\n"
   ]
  },
  {
   "cell_type": "code",
   "execution_count": 6,
   "id": "4e7c4ea8-f097-4dca-b875-681e657d1767",
   "metadata": {},
   "outputs": [
    {
     "name": "stdout",
     "output_type": "stream",
     "text": [
      "1\n",
      "2\n",
      "3\n",
      "4\n"
     ]
    }
   ],
   "source": [
    "##For example,\n",
    "##print number less than 5\n",
    "count = 1\n",
    "while count < 5:\n",
    "    print(count)\n",
    "    count = count +1"
   ]
  },
  {
   "cell_type": "markdown",
   "id": "b474f4a0-e780-46bf-8951-8967b3d52367",
   "metadata": {},
   "source": [
    "Q6. Use nested while loop to print 3 different pattern."
   ]
  },
  {
   "cell_type": "code",
   "execution_count": 5,
   "id": "baa8bf50-6582-418a-ac2b-1491e14027b5",
   "metadata": {},
   "outputs": [
    {
     "name": "stdout",
     "output_type": "stream",
     "text": [
      "12345\n",
      "12345\n",
      "12345\n",
      "12345\n",
      "12345\n",
      "11111\n",
      "22222\n",
      "33333\n",
      "44444\n",
      "55555\n",
      "1\n",
      "22\n",
      "333\n",
      "4444\n",
      "55555\n"
     ]
    }
   ],
   "source": [
    "i= 1\n",
    "while i<= 5:\n",
    "    j=1 \n",
    "    while j <= 5:\n",
    "        print(j,end=\"\")\n",
    "        j = j+1\n",
    "    print()\n",
    "    i = i+1\n",
    "i= 1\n",
    "while i<= 5:\n",
    "    j=1 \n",
    "    while j <= 5:\n",
    "        print(i,end=\"\")\n",
    "        j = j+1\n",
    "    print()\n",
    "    i = i+1\n",
    "i= 1\n",
    "while i<= 5:\n",
    "    j=1 \n",
    "    while j <= i:\n",
    "        print(i,end=\"\")\n",
    "        j = j+1\n",
    "    print()\n",
    "    i = i+1"
   ]
  },
  {
   "cell_type": "markdown",
   "id": "59b8b646-cfc6-42e5-9703-39f82ccecf49",
   "metadata": {},
   "source": [
    "Q2. Reverse a while loop to display numbers from 10 to 1."
   ]
  },
  {
   "cell_type": "code",
   "execution_count": 9,
   "id": "0e2a5353-efbf-4ae6-8484-0ddc59e5213f",
   "metadata": {},
   "outputs": [
    {
     "name": "stdout",
     "output_type": "stream",
     "text": [
      "10\n",
      "9\n",
      "8\n",
      "7\n",
      "6\n",
      "5\n",
      "4\n",
      "3\n",
      "2\n",
      "1\n"
     ]
    }
   ],
   "source": [
    "i = 1\n",
    "while i < 11:\n",
    "    print(11-i)\n",
    "    i= i+1"
   ]
  },
  {
   "cell_type": "code",
   "execution_count": null,
   "id": "77ae98d5-318e-4d8b-b32f-ea23c8978342",
   "metadata": {},
   "outputs": [],
   "source": []
  }
 ],
 "metadata": {
  "kernelspec": {
   "display_name": "Python 3 (ipykernel)",
   "language": "python",
   "name": "python3"
  },
  "language_info": {
   "codemirror_mode": {
    "name": "ipython",
    "version": 3
   },
   "file_extension": ".py",
   "mimetype": "text/x-python",
   "name": "python",
   "nbconvert_exporter": "python",
   "pygments_lexer": "ipython3",
   "version": "3.10.6"
  }
 },
 "nbformat": 4,
 "nbformat_minor": 5
}
